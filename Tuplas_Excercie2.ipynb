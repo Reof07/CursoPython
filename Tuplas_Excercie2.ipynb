{
 "cells": [
  {
   "cell_type": "markdown",
   "metadata": {},
   "source": [
    "**Exercise 2:** This program counts the distribution of the hour of the day for each of the messages. You can pull the hour from the \"From\" line by finding the time string and then splitting that string into parts using the colon character. Once you have accumulated the counts for each hour, print out the counts, one per line, sorted by hour as shown below."
   ]
  },
  {
   "cell_type": "code",
   "execution_count": 16,
   "metadata": {},
   "outputs": [
    {
     "name": "stdout",
     "output_type": "stream",
     "text": [
      "Enter file name: mbox-short.txt\n",
      "04 3\n",
      "06 1\n",
      "07 1\n",
      "09 2\n",
      "10 3\n",
      "11 6\n",
      "14 1\n",
      "15 2\n",
      "16 4\n",
      "17 2\n",
      "18 1\n",
      "19 1\n"
     ]
    }
   ],
   "source": [
    "fileName = input('Enter file name: ')\n",
    "try:\n",
    "    fhand = open(fileName)\n",
    "except:\n",
    "    print('This file cannot opened', fileName)\n",
    "    quit()\n",
    "    \n",
    "    \n",
    "counts = dict()\n",
    "for line in fhand:\n",
    "    line = line.rstrip()\n",
    "    if not line.startswith('From '):continue\n",
    "    # print(line)    \n",
    "    line = line.split()\n",
    "    line = line[5]\n",
    "    listHour = line.split(\":\")\n",
    "    # print(listHour)\n",
    "    hour = listHour[0]\n",
    "    # print(hour)\n",
    "    if hour in counts:\n",
    "        counts[hour] += 1\n",
    "    else:\n",
    "        counts[hour] = 1\n",
    "#print(counts)\n",
    "lists = list()\n",
    "for key, val in list(counts.items()):\n",
    "    lists.append((key,val))\n",
    "lists.sort()\n",
    "for key, val in lists:\n",
    "    print(key,val)    "
   ]
  }
 ],
 "metadata": {
  "kernelspec": {
   "display_name": "Python 3",
   "language": "python",
   "name": "python3"
  },
  "language_info": {
   "codemirror_mode": {
    "name": "ipython",
    "version": 3
   },
   "file_extension": ".py",
   "mimetype": "text/x-python",
   "name": "python",
   "nbconvert_exporter": "python",
   "pygments_lexer": "ipython3",
   "version": "3.7.4"
  }
 },
 "nbformat": 4,
 "nbformat_minor": 2
}
