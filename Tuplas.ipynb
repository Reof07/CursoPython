{
 "cells": [
  {
   "cell_type": "markdown",
   "metadata": {},
   "source": [
    "# Tuplas:\n",
    "\n",
    "Una tupla es una secuencia de valores como una lista. Los valores que son almacenados en una tupla **pueden ser de cualquier tipo y son indexed por enteros**. Una de las diferencias de las tuplas es que son **immutable**. tambien son comparables y hashable podemos organizar listas con ellas y usar con **key value** en diccionarios de pyhton."
   ]
  },
  {
   "cell_type": "code",
   "execution_count": 14,
   "metadata": {},
   "outputs": [
    {
     "name": "stdout",
     "output_type": "stream",
     "text": [
      "Los valores de la tupla (t) son :  ('a', 'b', 'c', 'd', 'e')\n",
      "Tupla con un solo valor:  ('a',)\n",
      "Tipo de dato de la tupla: <class 'tuple'>\n",
      "Intentando sin coma:  a\n",
      "Tipo de datos: <class 'str'>\n",
      "Creando un tupla con la funcion \"tuple\", sin argumentos:  ()\n",
      "Recibiendo sequencias como parametros:  ('L', 'u', 'p', 'i', 'n', 's')\n",
      "Tomamos como ejemplo la tupla \"t\": ('a', 'b', 'c', 'd', 'e')\n",
      "Mostrando el valor de la posición [0]en t:  a\n",
      "Seleccionando un rango de elementos con (:) slice: ('b', 'c')\n",
      "Intetando modificar el valor del index [0] de t: ('a', 'b', 'c', 'd', 'e')\n",
      "tupla t: ('a', 'b', 'c', 'd', 'e')\n",
      "Nueva tupla:  ('A', 'b', 'c', 'd', 'e')\n"
     ]
    }
   ],
   "source": [
    "# Sintácticamente, una tupla es una lista de valores separados por comas:\n",
    "t = ('a','b','c','d','e')\n",
    "print ('Los valores de la tupla (t) son : ' ,t)\n",
    "\n",
    "# Para crear un tupla con un solo elemento debemos colocar una coma al final.\n",
    "t1 = ('a',)\n",
    "print('Tupla con un solo valor: ', t1)\n",
    "print('Tipo de dato de la tupla:', type(t1))\n",
    "\n",
    "# Sin la coma, Python trata ('a') como una expresión con una cadena entre paréntesis que se evalúa como una cadena:\n",
    "t2 = ('a')\n",
    "print('Intentando sin coma: ', t2)\n",
    "print('Tipo de datos:', type(t2))\n",
    "\n",
    "# Otra forma de constriur una tupla es la funcion interna \"tuple\". Sin argumentos crea una tupla vacia:\n",
    "t3 = tuple()\n",
    "print('Creando un tupla con la funcion \\\"tuple\\\", sin argumentos: ', t3)\n",
    "\n",
    "# Si el argumento de una tupla es una secuencia (string, lista o tupla, el resultado de la llamada para la tupla es una tupla con los elementos de la sequiencia.\n",
    "t4 = tuple('Lupins')\n",
    "print('Recibiendo sequencias como parametros: ', t4)\n",
    "\n",
    "# NOTA: como \"tupla\" es el nombre de un cosntructor, deberias evitar usar esta como el nombre de una variable.\n",
    "\n",
    "# La mayoría de los operadores de listas también trabajan en tuplas. El operador de soporte indexa un elemento:\n",
    "print('Tomamos como ejemplo la tupla \\\"t\\\":', t)\n",
    "print('Mostrando el valor de la posición [0]en t: ', t[0])\n",
    "# El operador slice seleciona un rango de elementos:\n",
    "print('Seleccionando un rango de elementos con (:) slice:', t[1:3])\n",
    "\n",
    "#NOTA: no podemos modificar los valores de una tupla. obtendremos un error.\n",
    "print('Intetando modificar el valor del index [0] de t:', t)\n",
    "#t[0] = 'A'\n",
    "# NO podemos modificar los valores de una tupla, pero si podemos remplazar con otra.\n",
    "print('tupla t:', t)\n",
    "t = ('A',) + t[1:] # Creamos una tupla ('A',)\n",
    "print('Nueva tupla: ', t)\n",
    "\n"
   ]
  },
  {
   "cell_type": "markdown",
   "metadata": {},
   "source": [
    "## Comparando tuplas:\n",
    "\n",
    "Los operadores de comparación trabaja con tuplas y otras sequencias. python inicia comparando el primer elemento desde cada sequencia. si son iguales, va hasta el siguiente elemento y asi. Hasta encontrar el elemento diferente. Los elementos posteriores no se consideran (incluso si son realmente grandes)."
   ]
  },
  {
   "cell_type": "code",
   "execution_count": 32,
   "metadata": {},
   "outputs": [
    {
     "data": {
      "text/plain": [
       "True"
      ]
     },
     "execution_count": 32,
     "metadata": {},
     "output_type": "execute_result"
    }
   ],
   "source": [
    "(0,1,2) < (0,3,4) # Comparando cada elemento hasta encontrar elq ue difiere "
   ]
  },
  {
   "cell_type": "code",
   "execution_count": 18,
   "metadata": {},
   "outputs": [
    {
     "data": {
      "text/plain": [
       "True"
      ]
     },
     "execution_count": 18,
     "metadata": {},
     "output_type": "execute_result"
    }
   ],
   "source": [
    "(0,1,2000000) < (0,3,4) # Cuando encuentra el elemento que difiere, no considera los elemntos posteriores."
   ]
  },
  {
   "cell_type": "code",
   "execution_count": 19,
   "metadata": {},
   "outputs": [
    {
     "data": {
      "text/plain": [
       "False"
      ]
     },
     "execution_count": 19,
     "metadata": {},
     "output_type": "execute_result"
    }
   ],
   "source": [
    "(6,7,8) < (0,3,4)\n",
    "# NOTA: la funcion sort trabaja de la misma manera, pero en el caso de un empate, se clasifica por el segundo elemento, y así sucesivamente."
   ]
  },
  {
   "cell_type": "markdown",
   "metadata": {},
   "source": [
    "#####  Esta característica se presta a un patrón llamado DSU para:\n",
    "\n",
    "- Decorar: una secuencia al construir una lista de tuplas con una o más claves de clasificación que preceden a los elementos de la secuencia.\n",
    "- Organizar: las listas  o tuplas usando la funcion **sort**.\n",
    "- Decorar: mediante la extracción de los elementos ordenados de la secuencia."
   ]
  },
  {
   "cell_type": "code",
   "execution_count": 39,
   "metadata": {},
   "outputs": [
    {
     "name": "stdout",
     "output_type": "stream",
     "text": [
      "Sequencia de palabras:  but soft what light in yonder window breaks \n",
      "\n",
      "Respuesta:  ['yonder', 'window', 'breaks', 'light', 'what', 'soft', 'but', 'in']\n"
     ]
    }
   ],
   "source": [
    "# Por ejemplo, suponemos que tenemos una lista de palabras y queremos organizarlas desde el mas largo al mas corto.\n",
    "\n",
    "txt = 'but soft what light in yonder window breaks'\n",
    "print('Sequencia de palabras: ', txt ,'\\n')\n",
    "\n",
    "words = txt.split() # separamos cada palabra de la lista txt.\n",
    "#print('Lista de palabras: ', words,'\\n')\n",
    "\n",
    "t = list() # Cramos una lista vacia\n",
    "for word in words: # El primer ciclo crea una lista de tuplas, donde cada tupla es una palabra precedida por su longitud.\n",
    "    t.append((len(word), word))  \n",
    "#print('Añade a la lista la longitud de la palabra y la palabra: ',t,'\\n')\n",
    "\n",
    "t.sort(reverse = True) # compara el primer elemento, longitud, primero, y solo considera el segundo elemento para romper los empates. El argumento de palabra clave reverse = True le dice a sort que vaya en orden decreciente.\n",
    "#print ('Organizando la lista: ', t ,'\\n')\n",
    "\n",
    "res = list() # El segundo ciclo, recorre la lista de tuplas y construye una lista de palabras en orden descendente de longitud\n",
    "for length, word in t:\n",
    "    res.append(word)\n",
    "    \n",
    "    # Las palabras de cuatro caracteres se ordenan en orden alfabético inverso, por lo que \"what\" aparece antes de \"soft\" en la siguiente lista.\n",
    "print('Respuesta: ', res)\n",
    " \n",
    "    #NOTA: Por supuesto, la línea pierde gran parte de su impacto poético cuando se convierte en una lista de Python y se ordena en orden descendente de longitud de palabra."
   ]
  },
  {
   "cell_type": "markdown",
   "metadata": {},
   "source": [
    "## Asignacion de tuplas:\n",
    "\n",
    "Una característica sintatica única en el lenguaje de python, es la habilidad de tener una sentencia de asignacion del lado izquierdo de la tupla. Esto le permite asignar más de una variable a la vez cuando el lado izquierdo es una secuencia."
   ]
  },
  {
   "cell_type": "code",
   "execution_count": 47,
   "metadata": {},
   "outputs": [
    {
     "name": "stdout",
     "output_type": "stream",
     "text": [
      "x: have\n",
      "y: fun\n",
      "\n",
      "\n",
      "x1: have\n",
      "y1: fun\n"
     ]
    }
   ],
   "source": [
    "# En este ejemplo tenemos dos elementos en una lista y asignamos el primer y segundo elemento de la sequencia a las variables x e y.\n",
    "m = ['have', 'fun']\n",
    "x, y = m\n",
    "print('x:', x)\n",
    "print('y:', y)\n",
    "print('\\n')\n",
    "\n",
    "# Python traduce aproximadamente la sintaxis de asignación de tupla para que sea la siguiente: \n",
    "x1 = m[0]\n",
    "y1 = m[1]\n",
    "print('x1:', x1)\n",
    "print('y1:', y1)\n",
    "\n",
    "# Estilísticamente cuando usamos una tupla en el lado izquierdo de la declaración de asignación, omitimos el paréntesis, pero la siguiente es una sintaxis igualmente válida:\n",
    "# (x,y) = m  (El resultado es el mismo que x,y).\n",
    "\n",
    "# Una aplicación particularmente inteligente de la asignación de tuplas nos permite intercambiar los valores de dos variables en una sola declaración:\n",
    "# a, b = b,a \n",
    "\n",
    "# Ambos lados de esta declaración son tuplas, pero el lado izquierdo es una tupla de variables; el lado derecho es una tupla de expresiones. Cada valor en el lado derecho se asigna a su variable respectiva en el lado izquierdo. Todas las expresiones en el lado derecho se evalúan antes de cualquiera de las asignaciones.\n",
    "\n",
    "# NOTA: El número de variables a la izquierda y el número de valores a la derecha deben ser los mismos:\n",
    "\n",
    "# a,b = 1,2,3 --> ValueError: too many values to unpack (expected 2).\n"
   ]
  },
  {
   "cell_type": "markdown",
   "metadata": {},
   "source": [
    "###### Generalmente, el lado derecho puede se de cualquier tipo de sequencia (string, list o tuplas). "
   ]
  },
  {
   "cell_type": "code",
   "execution_count": 48,
   "metadata": {},
   "outputs": [
    {
     "name": "stdout",
     "output_type": "stream",
     "text": [
      "nombre de usuario: Reof1922\n",
      "dominio: gmail.com\n"
     ]
    }
   ],
   "source": [
    "# Por ejemplo para separar una dirección de email en nombre de usuario y dominio podemos escirbir:\n",
    "addr = 'Reof1922@gmail.com'\n",
    "name,domain = addr.split('@') # split() retorna una lista. separadas por '@'.\n",
    "print('nombre de usuario:',name)\n",
    "print('dominio:', domain)"
   ]
  },
  {
   "cell_type": "markdown",
   "metadata": {},
   "source": [
    "## Diccionarios y tuplas:\n",
    "\n",
    "Los diccionarios tiene un metodo llamado ***'items'*** que **retorna una lista de tuplas**, donde cada tupla es un key-value."
   ]
  },
  {
   "cell_type": "code",
   "execution_count": 53,
   "metadata": {},
   "outputs": [
    {
     "name": "stdout",
     "output_type": "stream",
     "text": [
      "Lista de tuplas: [('a', 10), ('b', 1), ('c', 22)]\n",
      "Lista organizada: [('a', 10), ('b', 1), ('c', 22)]\n"
     ]
    }
   ],
   "source": [
    "d = {'a':10, 'b':1, 'c':22} # Diccionario.\n",
    "t = list(d.items()) # Creamos una variable para almacenar una lista de tuplas.\n",
    "# a = d.items()\n",
    "#print(a)\n",
    "print('Lista de tuplas:', t)\n",
    "# Esta lista de tupĺas las podemos organizar con el metodo 'sort'.\n",
    "t.sort\n",
    "print('Lista organizada:', t)"
   ]
  },
  {
   "cell_type": "markdown",
   "metadata": {},
   "source": [
    "## Multiples asignaciones con diccionarios:\n",
    "\n",
    "Combinando ***'items'***, con asignacion de tuplas, y ***for***  podemos ver un maravilloso modelo de codigo para recorrer los keys-values de un diccionario en un simple ciclo."
   ]
  },
  {
   "cell_type": "code",
   "execution_count": 64,
   "metadata": {},
   "outputs": [
    {
     "name": "stdout",
     "output_type": "stream",
     "text": [
      "{'a': 10, 'b': 1, 'c': 22}\n",
      "Imprime: 10 a\n",
      "Imprime: 1 b\n",
      "Imprime: 22 c\n"
     ]
    }
   ],
   "source": [
    "print(d)\n",
    "for key,value in list(d.items()):\n",
    "    print('Imprime:',value, key)"
   ]
  },
  {
   "cell_type": "markdown",
   "metadata": {},
   "source": [
    "Nuevamente, está en orden de clave hash (es decir, no hay un orden particular).\n",
    "\n",
    "**Si combinamos estas dos técnicas, podemos imprimir el contenido de un diccionario ordenado por el valor almacenado en cada par clave-valor.**\n",
    "\n",
    "Para hacer esto, primero hacemos una lista de tuplas donde cada tupla es (valor, clave). El método de ítems nos daría una lista de tuplas (clave, valor), pero esta vez queremos ordenar por valor, no por clave. Una vez que hemos construido la lista con las tuplas de clave de valor, es simple ordenar la lista en orden inverso e imprimir la nueva lista ordenada."
   ]
  },
  {
   "cell_type": "code",
   "execution_count": 74,
   "metadata": {},
   "outputs": [
    {
     "name": "stdout",
     "output_type": "stream",
     "text": [
      "Lista de tuplas: [(10, 'a'), (1, 'b'), (22, 'c')]\n",
      "Lista organiada por valor, de mayor a menor: [(22, 'c'), (10, 'a'), (1, 'b')]\n"
     ]
    }
   ],
   "source": [
    "l = list() # Creamos una lista vacia\n",
    "for key, val in d.items(): # recorremos la lista de tuplas que retorna items\n",
    "    l.append((val,key)) # añadimos los elementos a la lista \"l\"\n",
    "print('Lista de tuplas:',l) # imprime\n",
    "l.sort(reverse = True) # ordenamos la lista en forma decreciente.\n",
    "print('Lista organiada por valor, de mayor a menor:',l) # imprime \n",
    "\n",
    "# NOTA: Al construir cuidadosamente la lista de tuplas para tener el valor como el primer elemento de cada tupla, podemos ordenar la lista de tuplas y ordenar el contenido de nuestro diccionario por valor."
   ]
  },
  {
   "cell_type": "markdown",
   "metadata": {},
   "source": [
    "## Las palabras mas comunes\n",
    "\n",
    "Volviendo a nuestro ejemplo corriente del texto de Romeo y Julieta Acto 2, Escena 2, podemos aumentar nuestro programa para utilizar esta técnica para imprimir las diez palabras más comunes en el texto de la siguiente manera:"
   ]
  },
  {
   "cell_type": "code",
   "execution_count": 1,
   "metadata": {},
   "outputs": [
    {
     "name": "stdout",
     "output_type": "stream",
     "text": [
      "61 i\n",
      "42 and\n",
      "40 romeo\n",
      "34 to\n",
      "34 the\n",
      "32 thou\n",
      "32 juliet\n",
      "30 that\n",
      "29 my\n",
      "24 thee\n"
     ]
    }
   ],
   "source": [
    "# Parte 1: Creamos un diccionario para contar las palabras mas comunes\n",
    "import string # libreria string\n",
    "fhand = open('romeo-full.txt') # apertura del archivo\n",
    "counts = dict() # creamos un diccionario basio\n",
    "for line in fhand: # recorremos cada linea del archivo.\n",
    "    line = line.translate(str.maketrans('', '', string.punctuation)) # eliminamos las puntuaciones del texto\n",
    "    line = line.lower() # convertimos todas las palabras en minusculas\n",
    "    words = line.split() # separamos las palabras\n",
    "    for word in words: #recorremos la lista de palabras \n",
    "        if word not in counts: # si la palabra no esta en el diccionario\n",
    "            counts[word] = 1 # agregala\n",
    "        else:\n",
    "            counts[word] += 1 # incrementa\n",
    "# print(counts)    \n",
    "\n",
    "## Parte 2: Organizamos el diccionario por valor.\n",
    "lst = list()\n",
    "for key,val in list(counts.items()):\n",
    "    lst.append((val,key))\n",
    "lst.sort(reverse=True)\n",
    "#print(lst)\n",
    "for key, val in lst[:10]:\n",
    "    print(key,val)\n",
    "    \n",
    "            \n",
    "            "
   ]
  },
  {
   "cell_type": "code",
   "execution_count": 2,
   "metadata": {},
   "outputs": [
    {
     "name": "stdout",
     "output_type": "stream",
     "text": [
      "[2, 2, 3]\n"
     ]
    }
   ],
   "source": [
    "x = \"hola\"\n",
    "y = [1,2,3]\n",
    "y[0] = 2\n",
    "print(y)"
   ]
  },
  {
   "cell_type": "code",
   "execution_count": null,
   "metadata": {},
   "outputs": [],
   "source": []
  }
 ],
 "metadata": {
  "kernelspec": {
   "display_name": "Python 3",
   "language": "python",
   "name": "python3"
  },
  "language_info": {
   "codemirror_mode": {
    "name": "ipython",
    "version": 3
   },
   "file_extension": ".py",
   "mimetype": "text/x-python",
   "name": "python",
   "nbconvert_exporter": "python",
   "pygments_lexer": "ipython3",
   "version": "3.7.4"
  }
 },
 "nbformat": 4,
 "nbformat_minor": 2
}
