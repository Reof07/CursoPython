{
 "cells": [
  {
   "cell_type": "markdown",
   "metadata": {},
   "source": [
    "**Exercise 2: Write a program that categorizes each mail message by\n",
    "which day of the week the commit was done. To do this look for lines\n",
    "that start with “From”, then look for the third word and keep a running\n",
    "count of each of the days of the week. At the end of the program print\n",
    "out the contents of your dictionary (order does not matter).**"
   ]
  },
  {
   "cell_type": "code",
   "execution_count": 17,
   "metadata": {},
   "outputs": [
    {
     "name": "stdout",
     "output_type": "stream",
     "text": [
      "Enter file name: mbox-short.txt\n",
      "{'Sat': 1, 'Fri': 20, 'Thu': 6}\n"
     ]
    }
   ],
   "source": [
    "fname = input('Enter file name: ')\n",
    "try:\n",
    "    fopen = open(fname)\n",
    "except:\n",
    "    print('File cannot opened,', fname)\n",
    "    exit()\n",
    "counts = dict()\n",
    "for line in fopen:\n",
    "    line = line.rstrip()\n",
    "    if line.startswith('From:'):continue  # ojo puedo mejorar esta linea con un if not. pero no esta funcionando.\n",
    "    if line.startswith('From'):  \n",
    "        words = line.split()\n",
    "        day = words[2]\n",
    "        counts[day] = counts.get(day,0)\n",
    "        if day in counts:\n",
    "            counts[day] += 1          \n",
    "print(counts)\n",
    "\n",
    "    "
   ]
  }
 ],
 "metadata": {
  "kernelspec": {
   "display_name": "Python 3",
   "language": "python",
   "name": "python3"
  },
  "language_info": {
   "codemirror_mode": {
    "name": "ipython",
    "version": 3
   },
   "file_extension": ".py",
   "mimetype": "text/x-python",
   "name": "python",
   "nbconvert_exporter": "python",
   "pygments_lexer": "ipython3",
   "version": "3.7.1"
  }
 },
 "nbformat": 4,
 "nbformat_minor": 2
}
