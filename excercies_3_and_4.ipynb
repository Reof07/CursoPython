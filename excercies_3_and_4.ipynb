{
 "cells": [
  {
   "cell_type": "markdown",
   "metadata": {},
   "source": [
    "**Exercise 3: Write a program to read through a mail log, build a his-\n",
    "togram using a dictionary to count how many messages have come from\n",
    "each email address, and print the dictionary.**"
   ]
  },
  {
   "cell_type": "code",
   "execution_count": 25,
   "metadata": {},
   "outputs": [
    {
     "name": "stdout",
     "output_type": "stream",
     "text": [
      "Enter file name: mbox-short.txt\n",
      "{'stephen.marquard@uct.ac.za': 2, 'louis@media.berkeley.edu': 3, 'zqian@umich.edu': 4, 'rjlowe@iupui.edu': 2, 'cwen@iupui.edu': 5, 'gsilver@umich.edu': 3, 'wagnermr@iupui.edu': 1, 'antranig@caret.cam.ac.uk': 1, 'gopal.ramasammycook@gmail.com': 1, 'david.horwitz@uct.ac.za': 4, 'ray@media.berkeley.edu': 1}\n"
     ]
    }
   ],
   "source": [
    "fname = input('Enter file name: ')\n",
    "try:\n",
    "    fopen = open(fname)\n",
    "except:\n",
    "    print('File cannot opened', fname)\n",
    "    exit()\n",
    "    \n",
    "counts = dict()    \n",
    "for line in fopen:\n",
    "    line = line.rstrip()\n",
    "    if line.startswith('From:'):\n",
    "        words = line.split()\n",
    "        mails = words[1]\n",
    "        counts[mails] = counts.get(mails,0)\n",
    "        if mails in counts:\n",
    "            counts[mails] += 1\n",
    "print(counts)"
   ]
  },
  {
   "cell_type": "markdown",
   "metadata": {},
   "source": [
    "**Exercise 4: Add code to the above program to figure out who has the\n",
    "most messages in the file. After all the data has been read and the dic-\n",
    "tionary has been created, look through the dictionary using a maximum\n",
    "loop (see Chapter 5: Maximum and minimum loops) to find who has\n",
    "the most messages and print how many messages the person has.**"
   ]
  },
  {
   "cell_type": "code",
   "execution_count": 20,
   "metadata": {},
   "outputs": [
    {
     "name": "stdout",
     "output_type": "stream",
     "text": [
      "cwen@iupui.edu : 5\n",
      "ray@media.berkeley.edu : 1\n"
     ]
    }
   ],
   "source": [
    "largest = 0\n",
    "smallest = 0\n",
    "max_emails = None\n",
    "min_emails = None\n",
    "for i in counts:\n",
    "    emails_val = counts.get(i)\n",
    "    if emails_val > largest:\n",
    "        largest = emails_val\n",
    "    else:\n",
    "        smallest = emails_val\n",
    "    if counts.get(i) == largest:\n",
    "        max_emails = i\n",
    "    if counts.get(i) == smallest:    \n",
    "        min_emails = i\n",
    "print(max_emails,':',largest)\n",
    "print(min_emails,':',smallest)\n",
    "        \n",
    "        \n",
    "\n"
   ]
  }
 ],
 "metadata": {
  "kernelspec": {
   "display_name": "Python 3",
   "language": "python",
   "name": "python3"
  },
  "language_info": {
   "codemirror_mode": {
    "name": "ipython",
    "version": 3
   },
   "file_extension": ".py",
   "mimetype": "text/x-python",
   "name": "python",
   "nbconvert_exporter": "python",
   "pygments_lexer": "ipython3",
   "version": "3.7.1"
  }
 },
 "nbformat": 4,
 "nbformat_minor": 2
}
